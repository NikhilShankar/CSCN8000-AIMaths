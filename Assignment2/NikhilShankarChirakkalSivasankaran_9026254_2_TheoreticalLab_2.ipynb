{
 "cells": [
  {
   "cell_type": "markdown",
   "metadata": {},
   "source": [
    "### **CSCN-8000 Lab-2 Artificial Intelligence Algorithm**\n",
    "\n",
    "#### **Theoretical Part A**"
   ]
  },
  {
   "cell_type": "markdown",
   "metadata": {},
   "source": [
    "| Location (L) | Size (S)   | Price (Label) |\n",
    "|--------------|------------|---------------|\n",
    "| Urban        | Large      | Expensive     |\n",
    "| Suburban     | Medium     | Affordable    |\n",
    "| Rural        | Small      | Cheap         |\n",
    "| Urban        | Medium     | Affordable    |\n",
    "| Suburban     | Large      | Expensive     |\n",
    "| Rural        | Medium     | Affordable    |\n",
    "| Urban        | Small      | Cheap         |\n",
    "| Suburban     | Small      | Cheap         |\n",
    "| Rural        | Large      | Expensive     |\n",
    "| Urban        | Large      | Expensive     |\n",
    "\n",
    "**Question**\n",
    "\n",
    "Calculate\n",
    "\n",
    "𝑃(𝑃𝑟𝑖𝑐𝑒|𝐿=𝑈𝑟𝑏𝑎𝑛, 𝑆=𝑀𝑒𝑑𝑖𝑢𝑚)"
   ]
  },
  {
   "cell_type": "markdown",
   "metadata": {},
   "source": [
    "#### **Step 1**\n",
    "Identify the type of Naive Bayes we equation which is applicable for the above data.\n",
    "\n",
    "- The data is not binary. Its columns are having categorical values\n",
    "- The data is not continous values like numerical values.\n",
    "\n",
    "> Given the above characteristics we can apply MultiNomial Naive Bayes for solving this."
   ]
  },
  {
   "cell_type": "markdown",
   "metadata": {},
   "source": [
    "#### **Step 2**\n",
    "\n",
    "**Equation for solving** \n",
    "\n",
    "```python\n",
    "P(Price|L = Urban, S = Medium) = ( P(Urban|Price) * P(Medium|Price) * P(Price) ) / ( P(Urban) * P(Medium) )\n",
    "```\n",
    "\n"
   ]
  },
  {
   "cell_type": "markdown",
   "metadata": {},
   "source": [
    "##### **Step 2.1**\n",
    "Calculating Naive bayes for Price = Expensive\n",
    "\n",
    "| Type | Probability |\n",
    "|------|-------------|\n",
    "| P(Expensive) | 4/10 |\n",
    "| P(Urban) | 4/10 |\n",
    "| P(Medium) | 3/10 |\n",
    "| P(Urban<code>&#124;</code>Expensive) |  2/4 |\n",
    "| P(Medium<code>&#124;</code>Expensive) | 0 |\n",
    "\n",
    "Substituting in the formula above we get \n",
    "\n",
    "P(Expensive|L = Urban, S = Medium) = ( 2/4 * 0 * 4/10) / ( 4/10 * 3/10 ) = 0"
   ]
  },
  {
   "cell_type": "markdown",
   "metadata": {},
   "source": [
    "##### **Step 2.2**\n",
    "Calculating Naive bayes for Price = Affordable\n",
    "\n",
    "| Type | Probability |\n",
    "|------|-------------|\n",
    "| P(Affordable) | 3/10 |\n",
    "| P(Urban) | 4/10 |\n",
    "| P(Medium) | 3/10 |\n",
    "| P(Urban<code>&#124;</code>Affordable) |  1/3 |\n",
    "| P(Medium<code>&#124;</code>Affordable) | 3/3 |\n",
    "\n",
    "Substituting in the formula above we get \n",
    "\n",
    "P(Affordable|L = Urban, S = Medium) = ( 1/3 * 3/3 * 3/10 ) / ( 4/10 * 3/10) = 0.1/0.12 = 10/12 = 0.8333"
   ]
  },
  {
   "cell_type": "markdown",
   "metadata": {},
   "source": [
    "##### **Step 2.2**\n",
    "Calculating Naive bayes for Price = Cheap\n",
    "\n",
    "| Type | Probability |\n",
    "|------|-------------|\n",
    "| P(Cheap) | 3/10 |\n",
    "| P(Urban) | 4/10 |\n",
    "| P(Medium) | 3/10 |\n",
    "| P(Urban<code>&#124;</code>Cheap) |  1/3 |\n",
    "| P(Medium<code>&#124;</code>Cheap) | 0/3 |\n",
    "\n",
    "Substituting in the formula above we get \n",
    "\n",
    "P(Cheap|L = Urban, S = Medium) = 0.33 * 0 * 0.3 / 0.4 * 0.3 = 0"
   ]
  },
  {
   "cell_type": "markdown",
   "metadata": {},
   "source": [
    "#### **Result**\n",
    "\n",
    "| Type | Probability |\n",
    "|------|-------------|\n",
    "| P(Cheap<code>&#124;</code>L=Urban, S=Medium) |  0 |\n",
    "| P(Affordable<code>&#124;</code>L=Urban, S=Medium) |  0.833 |\n",
    "| P(Expensive<code>&#124;</code>L=Urban, S=Medium) |  0 |\n",
    "\n"
   ]
  },
  {
   "cell_type": "markdown",
   "metadata": {},
   "source": [
    "> So based ib Naive Bayes formula we get that If the location is urban and size is medium there is 83.3% chance that it will be affordable."
   ]
  },
  {
   "cell_type": "markdown",
   "metadata": {},
   "source": [
    "#### **Theoretical Part-B**"
   ]
  },
  {
   "cell_type": "markdown",
   "metadata": {},
   "source": [
    "#### **Question B**"
   ]
  },
  {
   "cell_type": "markdown",
   "metadata": {},
   "source": [
    "4X - 3Y + Z = -10\n",
    "\n",
    "2X + Y + 3Z = 0\n",
    "\n",
    "-1X + 2Y -5Z = 17\n",
    "\n",
    "###### **Step1**\n",
    "\n",
    "|X|Y|Z|CoEff|\n",
    "|-----|----|-----|-----|\n",
    "|4|-3|1|-10|\n",
    "|2|1|3|0|\n",
    "|-1|2|-5|17|"
   ]
  },
  {
   "cell_type": "markdown",
   "metadata": {},
   "source": [
    "#### **Step 1 : 2*R2 - R1 = R2**\n",
    "|X|Y|Z|CoEff|\n",
    "|-----|----|-----|-----|\n",
    "|4|-3|1|-10|\n",
    "|0|5|5|10|\n",
    "|-1|2|-5|17|"
   ]
  },
  {
   "cell_type": "markdown",
   "metadata": {},
   "source": [
    "#### **Step 2: 4*R3 + R1 = R3**"
   ]
  },
  {
   "cell_type": "markdown",
   "metadata": {},
   "source": [
    "|X|Y|Z|CoEff|\n",
    "|-----|----|-----|-----|\n",
    "|4|-3|1|-10|\n",
    "|0|5|5|10|\n",
    "|0|5|-19|58|"
   ]
  },
  {
   "cell_type": "markdown",
   "metadata": {},
   "source": [
    "#### **Step 3: R3 - R2 = R3**"
   ]
  },
  {
   "cell_type": "markdown",
   "metadata": {},
   "source": [
    "|X|Y|Z|CoEff|\n",
    "|-----|----|-----|-----|\n",
    "|4|-3|1|-10|\n",
    "|0|5|5|10|\n",
    "|0|0|-24|48|"
   ]
  },
  {
   "cell_type": "markdown",
   "metadata": {},
   "source": [
    "#### **Step 4 : Substitute values in R3**"
   ]
  },
  {
   "cell_type": "markdown",
   "metadata": {},
   "source": [
    "-24Z = 48\n",
    "\n",
    "**Z = -2**"
   ]
  },
  {
   "cell_type": "markdown",
   "metadata": {},
   "source": [
    "#### **Step 5 - Substitute in 2nd equation**"
   ]
  },
  {
   "cell_type": "markdown",
   "metadata": {},
   "source": [
    "5Y + 5Z = 10\n",
    "\n",
    "5Y - 10 = 10\n",
    "\n",
    "5Y = 20\n",
    "\n",
    "**Y = 4**"
   ]
  },
  {
   "cell_type": "markdown",
   "metadata": {},
   "source": [
    "#### **Step 6 - Substitute in 1st equation**"
   ]
  },
  {
   "cell_type": "markdown",
   "metadata": {},
   "source": [
    "4X - 3Y + Z = -10\n",
    "\n",
    "4X = 3Y - Z - 10\n",
    "\n",
    "4X = 12 + 2 - 10\n",
    "\n",
    "4X = 4\n",
    "\n",
    "**X = 1**"
   ]
  },
  {
   "cell_type": "markdown",
   "metadata": {},
   "source": [
    "#### **Result**"
   ]
  },
  {
   "cell_type": "markdown",
   "metadata": {},
   "source": [
    "|X|Y|Z|\n",
    "|-----|----|-----|\n",
    "|1|4|-2|"
   ]
  },
  {
   "cell_type": "markdown",
   "metadata": {},
   "source": []
  }
 ],
 "metadata": {
  "language_info": {
   "name": "python"
  }
 },
 "nbformat": 4,
 "nbformat_minor": 2
}
