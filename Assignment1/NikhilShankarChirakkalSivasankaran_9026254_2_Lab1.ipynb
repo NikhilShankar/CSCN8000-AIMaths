{
 "cells": [
  {
   "cell_type": "markdown",
   "metadata": {},
   "source": [
    "### CSCN8000 - Artificial Intelligence Algorithms and Mathematics\n",
    "#### Lab 1: Basic NumPy Operations\n",
    "\n",
    "##### Part-A"
   ]
  },
  {
   "cell_type": "markdown",
   "metadata": {},
   "source": [
    "##### Question 1"
   ]
  },
  {
   "cell_type": "code",
   "execution_count": 2,
   "metadata": {},
   "outputs": [
    {
     "name": "stdout",
     "output_type": "stream",
     "text": [
      "[ 1  4  7 10 13 16 19]\n"
     ]
    }
   ],
   "source": [
    "import numpy as np\n",
    "\n",
    "# parameter 1 denotes teh starting element\n",
    "# parameter 2 denotes the highest element ( might not be ncluded based on 3rd parameter)\n",
    "# parameter 3 denotes the interval between numbers\n",
    "array_1 = np.arange(1,20,3)\n",
    "print(array_1)"
   ]
  },
  {
   "cell_type": "markdown",
   "metadata": {},
   "source": [
    "##### Question 2"
   ]
  },
  {
   "cell_type": "code",
   "execution_count": 3,
   "metadata": {},
   "outputs": [
    {
     "name": "stdout",
     "output_type": "stream",
     "text": [
      "[0.59337721 0.19934635 0.12259702]\n",
      "[0.8402797  0.9928345  0.97403521]\n"
     ]
    }
   ],
   "source": [
    "#Method 1 : Dont use this method. Always prefer Method 2\n",
    "#initializing an array of length/shape 3 all initialized to zero\n",
    "random_array_between_0_and_1 = np.zeros(3)\n",
    "#for-loop calculating 3 random numbers and assigning to each index     \n",
    "for i in range(3):\n",
    "     random_number = np.random.random()\n",
    "     random_array_between_0_and_1[i] = random_number\n",
    "\n",
    "print(random_array_between_0_and_1)\n",
    "\n",
    "#Method 2 : Better solution without loop and using numpy random with shape parameter\n",
    "#This is a far better and easy solution when we consider complex shapes\n",
    "shape=(3)\n",
    "random_array_2_between_0_and_1 = np.random.random(shape)\n",
    "print(random_array_2_between_0_and_1)"
   ]
  },
  {
   "cell_type": "markdown",
   "metadata": {},
   "source": [
    "#### Question 3"
   ]
  },
  {
   "cell_type": "code",
   "execution_count": 4,
   "metadata": {},
   "outputs": [
    {
     "name": "stdout",
     "output_type": "stream",
     "text": [
      "first two rows after slicing\n",
      "[[10 20 45]\n",
      " [30 12 16]]\n",
      "last two rowsafter slicing\n",
      "[[30 12 16]\n",
      " [42 17 56]]\n"
     ]
    }
   ],
   "source": [
    "sample_2d_array = np.array([[10,20,45],\n",
    "                            [30,12,16],\n",
    "                            [42,17,56]\n",
    "                            ])\n",
    "\n",
    "#To get first 2 rows we specify slicing 0:2 meaning including 0 until 2 ie. excluding 2\n",
    "sample_2d_array_first_2_rows = sample_2d_array[0:2]\n",
    "print('first two rows after slicing')\n",
    "print(sample_2d_array_first_2_rows)\n",
    "print('last two rowsafter slicing')\n",
    "sample_2d_array_last_2_rows = sample_2d_array[1:3]\n",
    "print(sample_2d_array_last_2_rows)\n",
    "\n",
    "\n"
   ]
  },
  {
   "cell_type": "markdown",
   "metadata": {},
   "source": [
    "#### Question 4"
   ]
  },
  {
   "cell_type": "code",
   "execution_count": 5,
   "metadata": {},
   "outputs": [
    {
     "name": "stdout",
     "output_type": "stream",
     "text": [
      "Array1\n",
      " [[91 17]\n",
      " [59 85]]\n",
      "Array1\n",
      " [[149 170]\n",
      " [187 192]]\n",
      "Vertically stacked\n",
      " [[ 91  17]\n",
      " [ 59  85]\n",
      " [149 170]\n",
      " [187 192]]\n",
      "Horizontally Stacked\n",
      " [[ 91  17 149 170]\n",
      " [ 59  85 187 192]]\n",
      "Collection of arrays after Vertical split of Vertically stacked array\n",
      " [array([[91, 17]]), array([[59, 85]]), array([[149, 170]]), array([[187, 192]])]\n",
      "Collection of arrays after Horizontal split of Vertically stacked array\n",
      " [array([[ 91],\n",
      "       [ 59],\n",
      "       [149],\n",
      "       [187]]), array([[ 17],\n",
      "       [ 85],\n",
      "       [170],\n",
      "       [192]])]\n"
     ]
    }
   ],
   "source": [
    "shape = (2,2)\n",
    "array_2d_first = np.random.randint(low=1, high=100, size=shape)\n",
    "array_2d_second = np.random.randint(low=100, high=200, size=shape)\n",
    "print(f'Array1\\n {array_2d_first}')\n",
    "print(f'Array1\\n {array_2d_second}')\n",
    "\n",
    "#using vstack and hstack we can stack elements\n",
    "vertically_stacked_array = np.vstack((array_2d_first, array_2d_second))\n",
    "print(f'Vertically stacked\\n {vertically_stacked_array}')\n",
    "horizontally_stacked_array = np.hstack((array_2d_first, array_2d_second))\n",
    "print(f'Horizontally Stacked\\n {horizontally_stacked_array}')\n",
    "\n",
    "#using vsplit and hsplit we can split the array\n",
    "vertically_split_vertically_stacked_array = np.vsplit(vertically_stacked_array, 4)\n",
    "print(f'Collection of arrays after Vertical split of Vertically stacked array\\n {vertically_split_vertically_stacked_array}')\n",
    "\n",
    "horizontally_split_vertically_stacked_array = np.hsplit(vertically_stacked_array, 2)\n",
    "print(f'Collection of arrays after Horizontal split of Vertically stacked array\\n {horizontally_split_vertically_stacked_array}')"
   ]
  },
  {
   "cell_type": "markdown",
   "metadata": {},
   "source": [
    "> Note that we had to use 2 as parameter when splitting vertically stacked array horizontally. This is because each array in the vertical stack contained only 2 elements. Had the horizontal split been performed on a horizontally stacked 2x2 array then we could have used 4 also since in a single row we would have 8 items."
   ]
  },
  {
   "cell_type": "markdown",
   "metadata": {},
   "source": [
    "#### Question 5"
   ]
  },
  {
   "cell_type": "code",
   "execution_count": 6,
   "metadata": {},
   "outputs": [
    {
     "name": "stdout",
     "output_type": "stream",
     "text": [
      "********* Is it possible to multiply these matrices ? ****************\n",
      "first matrix \n",
      " [[5 7 2]\n",
      " [4 5 6]\n",
      " [7 4 2]]\n",
      "second matrix \n",
      " [[4 2]\n",
      " [6 2]\n",
      " [4 2]]\n",
      "Multiplication is possible because \n",
      "column count of 1st matrix : 3 matches with row count of 2nd matrix : 3 and the result is \n",
      "[[70 28]\n",
      " [70 30]\n",
      " [60 26]]\n",
      "********* Demonstrate the case when it is not possible to. ****************\n",
      "first matrix \n",
      " [[4 2]\n",
      " [6 2]\n",
      " [4 2]]\n",
      "second matrix \n",
      " [[5 7 2]\n",
      " [4 5 6]\n",
      " [7 4 2]]\n",
      "Multiplication is not possible\n",
      "Reason : Column count of 1st matrix : 2 doesnt match with row count of 2nd matrix : 3\n"
     ]
    }
   ],
   "source": [
    "x_matrix = np.array([[5,7,2],\n",
    "                   [4,5,6],\n",
    "                   [7,4,2]])\n",
    "y_matrix = np.array([[4,2],\n",
    "                    [6,2],\n",
    "                    [4,2]]) \n",
    "\n",
    "#defining a function for calculating and printing the dot product in case its possible otherwise prints not possible\n",
    "def matrix_multiplication(np1, np2):\n",
    "    _, column_count_1 = np1.shape\n",
    "    row_count_2, _ = np2.shape\n",
    "    print(f'first matrix \\n {np1}')\n",
    "    print(f'second matrix \\n {np2}')\n",
    "    try:\n",
    "        result = np.matmul(np1,np2)\n",
    "        print(f\"Multiplication is possible because \\ncolumn count of 1st matrix : {column_count_1} matches with row count of 2nd matrix : {row_count_2} and the result is \\n{result}\")\n",
    "    except ValueError:\n",
    "        print(f\"Multiplication is not possible\")\n",
    "        print(f'Reason : Column count of 1st matrix : {column_count_1} doesnt match with row count of 2nd matrix : {row_count_2}')\n",
    "    return\n",
    "\n",
    "#part 1 : checking if its possible to multiply these matrices\n",
    "print('********* Is it possible to multiply these matrices ? ****************')\n",
    "matrix_multiplication(x_matrix, y_matrix)\n",
    "\n",
    "#part2 : Quickest way to demonstarte will be changing the order of the matrix multilication\n",
    "print('********* Demonstrate the case when it is not possible to. ****************')\n",
    "matrix_multiplication(y_matrix,x_matrix)"
   ]
  },
  {
   "cell_type": "markdown",
   "metadata": {},
   "source": [
    "#### Question 6"
   ]
  },
  {
   "cell_type": "code",
   "execution_count": 7,
   "metadata": {},
   "outputs": [
    {
     "name": "stdout",
     "output_type": "stream",
     "text": [
      "*********** Find the Shape, Number of dimensions of vector x. ****************\n",
      "shape of vector : (3,)\n",
      "dimensions of vector : 1\n",
      "************** Reshape the vector ***************\n",
      "Reshaped X \n",
      " [[ 2]\n",
      " [-1]\n",
      " [-8]]\n",
      "shape of vector : (3, 1)\n",
      "dimensions of vector : 2\n",
      "Reshaped Y \n",
      " [[ 3]\n",
      " [ 1]\n",
      " [-2]]\n",
      "shape of vector : (3, 1)\n",
      "dimensions of vector : 2\n"
     ]
    }
   ],
   "source": [
    "x_array = np.array([2, -1, -8])\n",
    "y_array = np.array([3, 1, -2])\n",
    "\n",
    "def shape_and_dimension(array):\n",
    "    print(f'shape of vector : {array.shape}')\n",
    "    print(f'dimensions of vector : {array.ndim}')\n",
    "\n",
    "print(\"*********** Find the Shape, Number of dimensions of vector x. ****************\")\n",
    "shape_and_dimension(x_array)\n",
    "\n",
    "#Reshaping to (3,1)\n",
    "print(\"************** Reshape the vector ***************\")\n",
    "reshaped_vector_x = x_array.reshape(3,1)\n",
    "reshaped_vector_y = y_array.reshape(3,1)\n",
    "print(f'Reshaped X \\n {reshaped_vector_x}')\n",
    "shape_and_dimension(reshaped_vector_x)\n",
    "\n",
    "print(f'Reshaped Y \\n {reshaped_vector_y}')\n",
    "shape_and_dimension(reshaped_vector_y)\n"
   ]
  },
  {
   "cell_type": "markdown",
   "metadata": {},
   "source": [
    "#### Question 7"
   ]
  },
  {
   "cell_type": "markdown",
   "metadata": {},
   "source": [
    "#### How does broadcasting work?\n",
    "Broadcasting is a powerful feature in numpy library for doing operations on arrays with different shapes.\n",
    "The concept of broadcasting relies **on 'stretching' one of the two arrays** so that mathematical operations can be\n",
    "applied to the two arrays involved. **Broadcasting is memory efficient and fast**. It is memory efficient because \n",
    "it **doesn't actually create a copy of the array to be stretched nor does it replicate the data internally for stretching**. \n",
    "Broadcasting won't work for all pairs of shapes of arrays. It has a set of rules which is summarized in my own words below.\n",
    "> When comparing the rightmost non matching dimensions of two arrays one of them needs to be 1 and the remaining dimensions to the left of that array also needs to be 1.\n",
    "\n",
    "Another important thing to notice here\n",
    "> Broadcasting is inherently applied by numpy when we use mathematical operators on two numpy arrays. We don't need to use special characters, operators or functions."
   ]
  },
  {
   "cell_type": "markdown",
   "metadata": {},
   "source": [
    "#### Demonstration of broadcasting"
   ]
  },
  {
   "cell_type": "code",
   "execution_count": 8,
   "metadata": {},
   "outputs": [],
   "source": [
    "# In order to showcase broadcasting feature we are writing a function for applying multiplication and division using broadcasting\n",
    "def broadcasting_demo(array1, array2, title):\n",
    "    print(f'{title}')\n",
    "    print(f'Array 1 : Shape : {array1.shape} \\n{array1}')\n",
    "    print(f'Array 2 : Shape : {array2.shape} \\n{array2}')\n",
    "    try:\n",
    "        product = array1 * array2\n",
    "        division = array1 / array2\n",
    "        print(f'Result after multiplication \\n{product}')\n",
    "        print(f'Result after division \\n {division}')\n",
    "    except ValueError:\n",
    "        print(f'Broadcasting is not possible because array1 shape : {array1.shape} and array2 shape : {array2.shape} is not compatible for broadcasting')"
   ]
  },
  {
   "cell_type": "markdown",
   "metadata": {},
   "source": [
    "##### Example 1"
   ]
  },
  {
   "cell_type": "code",
   "execution_count": 9,
   "metadata": {},
   "outputs": [
    {
     "name": "stdout",
     "output_type": "stream",
     "text": [
      "Example 1\n",
      "Array 1 : Shape : (3, 3) \n",
      "[[10 20 30]\n",
      " [40 50 60]\n",
      " [70 80 90]]\n",
      "Array 2 : Shape : (3, 3) \n",
      "[[1 2 3]\n",
      " [4 5 6]\n",
      " [7 8 9]]\n",
      "Result after multiplication \n",
      "[[ 10  40  90]\n",
      " [160 250 360]\n",
      " [490 640 810]]\n",
      "Result after division \n",
      " [[10. 10. 10.]\n",
      " [10. 10. 10.]\n",
      " [10. 10. 10.]]\n"
     ]
    }
   ],
   "source": [
    "\n",
    "#Example 1 : Same shape for both arrays\n",
    "array_1 = np.array([[10,20,30],\n",
    "                   [40,50,60],\n",
    "                   [70,80,90]])\n",
    "array_2 = np.array([[1,2,3],\n",
    "                  [4,5,6],\n",
    "                  [7,8,9]])\n",
    "\n",
    "broadcasting_demo(array_1, array_2, 'Example 1')\n",
    "\n",
    "\n"
   ]
  },
  {
   "cell_type": "markdown",
   "metadata": {},
   "source": [
    "> Broadcasting is possible for identically shaped arrays"
   ]
  },
  {
   "cell_type": "markdown",
   "metadata": {},
   "source": [
    "##### Example 2 : different shapes"
   ]
  },
  {
   "cell_type": "code",
   "execution_count": 10,
   "metadata": {},
   "outputs": [
    {
     "name": "stdout",
     "output_type": "stream",
     "text": [
      "Example 2\n",
      "Array 1 : Shape : (3, 3) \n",
      "[[10 20 30]\n",
      " [40 50 60]\n",
      " [70 80 90]]\n",
      "Array 2 : Shape : (1, 3) \n",
      "[[1 2 3]]\n",
      "Result after multiplication \n",
      "[[ 10  40  90]\n",
      " [ 40 100 180]\n",
      " [ 70 160 270]]\n",
      "Result after division \n",
      " [[10. 10. 10.]\n",
      " [40. 25. 20.]\n",
      " [70. 40. 30.]]\n"
     ]
    }
   ],
   "source": [
    "sample_2_array_1 = np.array([[10,20,30],\n",
    "                   [40,50,60],\n",
    "                   [70,80,90]])\n",
    "sample_2_array_2 = np.array([[1,2,3]])\n",
    "\n",
    "broadcasting_demo(sample_2_array_1, sample_2_array_2, 'Example 2')\n"
   ]
  },
  {
   "cell_type": "markdown",
   "metadata": {},
   "source": [
    "> Here we can see that even though the shape of the two arrays were different the operation was possible. Basically array2 was stretched resulting in the same shape ie [[1,2,3], [1,2,3], [1,2,3]]"
   ]
  },
  {
   "cell_type": "markdown",
   "metadata": {},
   "source": [
    "##### Example 3 : what if we try the opposite of the previous example ?"
   ]
  },
  {
   "cell_type": "code",
   "execution_count": 11,
   "metadata": {},
   "outputs": [
    {
     "name": "stdout",
     "output_type": "stream",
     "text": [
      "Example 3\n",
      "Array 1 : Shape : (1, 3) \n",
      "[[1 2 3]]\n",
      "Array 2 : Shape : (3, 3) \n",
      "[[10 20 30]\n",
      " [40 50 60]\n",
      " [70 80 90]]\n",
      "Result after multiplication \n",
      "[[ 10  40  90]\n",
      " [ 40 100 180]\n",
      " [ 70 160 270]]\n",
      "Result after division \n",
      " [[0.1        0.1        0.1       ]\n",
      " [0.025      0.04       0.05      ]\n",
      " [0.01428571 0.025      0.03333333]]\n"
     ]
    }
   ],
   "source": [
    "# Note the parameters have been swapped\n",
    "broadcasting_demo(sample_2_array_2, sample_2_array_1, 'Example 3')"
   ]
  },
  {
   "cell_type": "markdown",
   "metadata": {},
   "source": [
    "> Order is not important for multiplication and division and applying broadcasting"
   ]
  },
  {
   "cell_type": "markdown",
   "metadata": {},
   "source": [
    "Example 4: More than 2 dimensions"
   ]
  },
  {
   "cell_type": "code",
   "execution_count": 12,
   "metadata": {},
   "outputs": [
    {
     "name": "stdout",
     "output_type": "stream",
     "text": [
      "Example 4\n",
      "Array 1 : Shape : (2, 3, 3) \n",
      "[[[10 20 30]\n",
      "  [40 50 60]\n",
      "  [70 80 90]]\n",
      "\n",
      " [[ 1  2  3]\n",
      "  [ 4  5  6]\n",
      "  [ 7  8  9]]]\n",
      "Array 2 : Shape : (1, 3) \n",
      "[[1 2 3]]\n",
      "Result after multiplication \n",
      "[[[ 10  40  90]\n",
      "  [ 40 100 180]\n",
      "  [ 70 160 270]]\n",
      "\n",
      " [[  1   4   9]\n",
      "  [  4  10  18]\n",
      "  [  7  16  27]]]\n",
      "Result after division \n",
      " [[[10.  10.  10. ]\n",
      "  [40.  25.  20. ]\n",
      "  [70.  40.  30. ]]\n",
      "\n",
      " [[ 1.   1.   1. ]\n",
      "  [ 4.   2.5  2. ]\n",
      "  [ 7.   4.   3. ]]]\n"
     ]
    }
   ],
   "source": [
    "sample_4_array_1 = np.array([[[10,20,30],\n",
    "                   [40,50,60],\n",
    "                   [70,80,90]],\n",
    "                   [[1,2,3],\n",
    "                   [4,5,6],\n",
    "                   [7,8,9]]])\n",
    "sample_4_array_2 = np.array([[1,2,3]])\n",
    "broadcasting_demo(sample_4_array_1, sample_4_array_2, 'Example 4')"
   ]
  },
  {
   "cell_type": "markdown",
   "metadata": {},
   "source": [
    "##### Example 5"
   ]
  },
  {
   "cell_type": "code",
   "execution_count": 13,
   "metadata": {},
   "outputs": [
    {
     "name": "stdout",
     "output_type": "stream",
     "text": [
      "Example 5\n",
      "Array 1 : Shape : (2, 3, 3) \n",
      "[[[10 20 30]\n",
      "  [40 50 60]\n",
      "  [70 80 90]]\n",
      "\n",
      " [[ 1  2  3]\n",
      "  [ 4  5  6]\n",
      "  [ 7  8  9]]]\n",
      "Array 2 : Shape : (2, 3) \n",
      "[[1 2 3]\n",
      " [4 5 6]]\n",
      "Broadcasting is not possible because array1 shape : (2, 3, 3) and array2 shape : (2, 3) is not compatible for broadcasting\n"
     ]
    }
   ],
   "source": [
    "sample_5_array_1 = np.array([[[10,20,30],\n",
    "                   [40,50,60],\n",
    "                   [70,80,90]],\n",
    "                   [[1,2,3],\n",
    "                   [4,5,6],\n",
    "                   [7,8,9]]])\n",
    "sample_5_array_2 = np.array([[1,2,3], [4,5,6]])\n",
    "broadcasting_demo(sample_5_array_1, sample_5_array_2, 'Example 5')\n"
   ]
  },
  {
   "cell_type": "markdown",
   "metadata": {},
   "source": [
    "> Compatibility fails since the 2nd dimension for first array and second array are not same ie 3 and 2 and none of them is equal to 1 which restricts numpy from properly stretching and matching one array to the other."
   ]
  },
  {
   "cell_type": "markdown",
   "metadata": {},
   "source": [
    "##### Final Example : what modification in last example will make it compatible ?"
   ]
  },
  {
   "cell_type": "code",
   "execution_count": 14,
   "metadata": {},
   "outputs": [
    {
     "name": "stdout",
     "output_type": "stream",
     "text": [
      "Example 6\n",
      "Array 1 : Shape : (2, 2, 3) \n",
      "[[[10 20 30]\n",
      "  [40 50 60]]\n",
      "\n",
      " [[ 1  2  3]\n",
      "  [ 4  5  6]]]\n",
      "Array 2 : Shape : (2, 3) \n",
      "[[1 2 3]\n",
      " [4 5 6]]\n",
      "Result after multiplication \n",
      "[[[ 10  40  90]\n",
      "  [160 250 360]]\n",
      "\n",
      " [[  1   4   9]\n",
      "  [ 16  25  36]]]\n",
      "Result after division \n",
      " [[[10. 10. 10.]\n",
      "  [10. 10. 10.]]\n",
      "\n",
      " [[ 1.  1.  1.]\n",
      "  [ 1.  1.  1.]]]\n"
     ]
    }
   ],
   "source": [
    "sample_6_array_1 = np.array([[[10,20,30],\n",
    "                   [40,50,60]],\n",
    "                   [[1,2,3],\n",
    "                   [4,5,6]]])\n",
    "sample_6_array_2 = np.array([[1,2,3], [4,5,6]])\n",
    "broadcasting_demo(sample_6_array_1, sample_6_array_2, 'Example 6')"
   ]
  },
  {
   "cell_type": "markdown",
   "metadata": {},
   "source": [
    "> Here we removed one row from each matrix from the first array which made the array 1 shape 2,2,3 which now becomes compatible with array2 shape which is 2,3"
   ]
  },
  {
   "cell_type": "markdown",
   "metadata": {},
   "source": [
    "## Part B - Linear Equations"
   ]
  },
  {
   "cell_type": "markdown",
   "metadata": {},
   "source": [
    "#### Question B.1"
   ]
  },
  {
   "cell_type": "markdown",
   "metadata": {},
   "source": [
    "- 4x + y - 2z = 10\n",
    "- 2x - 3y + 2z = -4\n",
    "- x + 2y + 3z = 6"
   ]
  },
  {
   "cell_type": "markdown",
   "metadata": {},
   "source": [
    "#### Finding singularity\n",
    "In order to find if a system is singular we can find the determinant and see if its zero. If so it means that the system is singular and doesnt have a unique solution."
   ]
  },
  {
   "cell_type": "code",
   "execution_count": 18,
   "metadata": {},
   "outputs": [
    {
     "name": "stdout",
     "output_type": "stream",
     "text": [
      "Determinant is -70.00000000000003 which is non-zero, hence the system of linear equation is solvable\n",
      "The solution for the linear equation is \n",
      "[ 1.8  2.4 -0.2] \n",
      "\n",
      " [array([['x'],\n",
      "       ['1.7999999999999998']], dtype='<U32'), array([['y'],\n",
      "       ['2.4']], dtype='<U32'), array([['z'],\n",
      "       ['-0.2']], dtype='<U32')]\n",
      "The solution for the linear equation is \n",
      "[ 1.  4. -2.]\n"
     ]
    }
   ],
   "source": [
    "# Representing the above linear equations as Ax = b\n",
    "coefficient_matrix_1 = np.array([[4,1,-2],\n",
    "                               [2,-3,2],\n",
    "                               [1,2,3]])\n",
    "result_vector_1 = np.array([10,-4,6])\n",
    "\n",
    "def check_determinant(nparray):\n",
    "    determinant = np.linalg.det(nparray)\n",
    "    if determinant != 0:\n",
    "        print(f'Determinant is {determinant} which is non-zero, hence the system of linear equation is solvable')\n",
    "    else:\n",
    "        print(f'Determinant is {determinant} hence the system is singular and there is no unique solution or zero solutions')\n",
    "\n",
    "check_determinant(coefficient_matrix_1)\n",
    "\n",
    "solution_vector = np.linalg.solve(coefficient_matrix_1, result_vector_1)\n",
    "\n",
    "# just trying to use splits and stacks we used to solve PART A\n",
    "column_names = np.array(['x','y','z'])\n",
    "combined_result = np.vstack((column_names, solution_vector))\n",
    "result = np.hsplit(combined_result,3)\n",
    "\n",
    "print(f'The solution for the linear equation is \\n{solution_vector} \\n\\n {result}')\n",
    "\n",
    "coefficient_matrix_2 = np.array([[4,-3,1], [2,1,3], [-1,2,-5]])\n",
    "result_vector_2 = np.array([-10, 0, 17])\n",
    "solution_vector_2 = np.linalg.solve(coefficient_matrix_2, result_vector_2)\n",
    "print(f'The solution for the linear equation is \\n{solution_vector_2}')\n",
    "\n"
   ]
  },
  {
   "cell_type": "markdown",
   "metadata": {},
   "source": [
    "#### Question B.2"
   ]
  },
  {
   "cell_type": "markdown",
   "metadata": {},
   "source": [
    "- 2x - y + 3z + 4w = 10\n",
    "- 4x - 2y + 6z + 8w = 20\n",
    "- 3x + y - 2z + 2w = 3\n",
    "- x + 3y - 4z + w = -1"
   ]
  },
  {
   "cell_type": "code",
   "execution_count": 16,
   "metadata": {},
   "outputs": [
    {
     "name": "stdout",
     "output_type": "stream",
     "text": [
      "Determinant is 0.0 hence the system is singular and there is no unique solution or zero solutions\n"
     ]
    }
   ],
   "source": [
    "coefficient_matrix_2 = np.array([[2,-1,3,4],\n",
    "                              [4,-2,6,8],\n",
    "                              [3,1,-2,2],\n",
    "                              [1,3,-4,1]])\n",
    "result_vector_2 = np.array([10,20,3,-1])\n",
    "\n",
    "check_determinant(coefficient_matrix_2)"
   ]
  },
  {
   "cell_type": "markdown",
   "metadata": {},
   "source": [
    "> We checked the determinant after creating the coefficient matrix and the determinant was found to be zero. This indicates that the system is singular and has more than 1 unique solutions or no solutions at all."
   ]
  },
  {
   "cell_type": "markdown",
   "metadata": {},
   "source": [
    "##### Method 2 for checking singularity using Ranks"
   ]
  },
  {
   "cell_type": "code",
   "execution_count": 17,
   "metadata": {},
   "outputs": [
    {
     "name": "stdout",
     "output_type": "stream",
     "text": [
      "Checking if Part B.2 linear equations are solvable using rank\n",
      "Rank 3 is less than row/column 4/4 count hence system is singular and the system is not solvable\n",
      "\n",
      "\n",
      " Checking if Part B.1 linear equations are solvable using rank\n",
      "The system is solvable. Verified using rank 3 row/column 3/3 and rank is same as the max value of row / column\n"
     ]
    }
   ],
   "source": [
    "def rank_of_array_for_2d_arrays(nparray):\n",
    "    if nparray.ndim > 2:\n",
    "        print('Since dimension is greater than 2 rank cannot be computed easily without using tensors.')\n",
    "        return\n",
    "    rank = np.linalg.matrix_rank(nparray)\n",
    "    row_count, column_count = nparray.shape\n",
    "    if rank < min(row_count, column_count):\n",
    "        print(f'Rank {rank} is less than row/column {row_count}/{column_count} count hence system is singular and the system is not solvable')\n",
    "    else:\n",
    "        print(f'The system is solvable. Verified using rank {rank} row/column {row_count}/{column_count} and rank is same as the max value of row / column')\n",
    "    return\n",
    "\n",
    "print('Checking if Part B.2 linear equations are solvable using rank')\n",
    "rank_of_array_for_2d_arrays(coefficient_matrix_2)\n",
    "\n",
    "print('\\n\\n Checking if Part B.1 linear equations are solvable using rank')\n",
    "rank_of_array_for_2d_arrays(coefficient_matrix_1)\n"
   ]
  }
 ],
 "metadata": {
  "kernelspec": {
   "display_name": "CSCN8010_classical_ml_311",
   "language": "python",
   "name": "python3"
  },
  "language_info": {
   "codemirror_mode": {
    "name": "ipython",
    "version": 3
   },
   "file_extension": ".py",
   "mimetype": "text/x-python",
   "name": "python",
   "nbconvert_exporter": "python",
   "pygments_lexer": "ipython3",
   "version": "3.11.0"
  }
 },
 "nbformat": 4,
 "nbformat_minor": 4
}
